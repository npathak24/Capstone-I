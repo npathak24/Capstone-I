{
 "cells": [
  {
   "cell_type": "code",
   "execution_count": 1,
   "id": "22b4fa43",
   "metadata": {},
   "outputs": [],
   "source": [
    "# import libraries\n",
    "import pandas as pd"
   ]
  },
  {
   "cell_type": "code",
   "execution_count": 2,
   "id": "942e54ce",
   "metadata": {},
   "outputs": [],
   "source": [
    "# Load Dataset\n",
    "crop_df = pd.read_csv('./Crop_recommendation.csv')"
   ]
  },
  {
   "cell_type": "code",
   "execution_count": 3,
   "id": "e321a445",
   "metadata": {},
   "outputs": [],
   "source": [
    "# Extrating features adn assinging to X and Assigning labels tob y variables\n",
    "\n",
    "X = crop_df.drop('label', axis=1)\n",
    "y = crop_df['label']"
   ]
  },
  {
   "cell_type": "code",
   "execution_count": 4,
   "id": "1e3a7903",
   "metadata": {},
   "outputs": [],
   "source": [
    "#Create Train and Test datasets\n",
    "from sklearn.model_selection import train_test_split  \n",
    "X_train, X_test, y_train, y_test = train_test_split(X, y, stratify=y, test_size = 0.20, random_state= 100)"
   ]
  },
  {
   "cell_type": "code",
   "execution_count": 5,
   "id": "718e4a03",
   "metadata": {},
   "outputs": [],
   "source": [
    "#Scale the Data\n",
    "from sklearn.preprocessing import StandardScaler\n",
    "sc = StandardScaler()\n",
    "x_train2 = sc.fit_transform(X_train)\n",
    "x_test2 = sc.transform(X_test)"
   ]
  },
  {
   "cell_type": "code",
   "execution_count": 8,
   "id": "dcde5363",
   "metadata": {},
   "outputs": [
    {
     "name": "stdout",
     "output_type": "stream",
     "text": [
      "\n",
      "Estimator:LogReg\n",
      "[[26  0  0  0  0  0  0]\n",
      " [ 0 20  0  0  0  0  0]\n",
      " [ 0  0 25  0  0  0  0]\n",
      " [ 0  0  0 20  0  0  0]\n",
      " [ 0  0  0  0 24  0  0]\n",
      " [ 0  0  3  0  0 17  0]\n",
      " [ 0  0  0  0  4  0 24]]\n",
      "              precision    recall  f1-score   support\n",
      "\n",
      "   Soyabeans       1.00      1.00      1.00        26\n",
      "       apple       1.00      1.00      1.00        20\n",
      "       beans       0.89      1.00      0.94        25\n",
      "      grapes       1.00      1.00      1.00        20\n",
      "       maize       0.86      1.00      0.92        24\n",
      "        peas       1.00      0.85      0.92        20\n",
      "        rice       1.00      0.86      0.92        28\n",
      "\n",
      "    accuracy                           0.96       163\n",
      "   macro avg       0.96      0.96      0.96       163\n",
      "weighted avg       0.96      0.96      0.96       163\n",
      "\n"
     ]
    }
   ],
   "source": [
    "# Model Import\n",
    "from sklearn.linear_model import LogisticRegression\n",
    "\n",
    "# Logistical Regression Model\n",
    "from sklearn.metrics import classification_report, confusion_matrix\n",
    "\n",
    "for name, model in [('LogReg', LogisticRegression(solver = 'liblinear',\n",
    "                                                  class_weight = 'balanced',\n",
    "                                                  random_state = 100))]:\n",
    "    model.fit(x_train2, y_train)\n",
    "    predict = model.predict(x_test2)\n",
    "    print('\\nEstimator:{}'.format(name))\n",
    "    print(confusion_matrix(y_test, predict))\n",
    "    print(classification_report(y_test, predict))"
   ]
  },
  {
   "cell_type": "code",
   "execution_count": 9,
   "id": "5b243558",
   "metadata": {},
   "outputs": [
    {
     "name": "stderr",
     "output_type": "stream",
     "text": [
      "C:\\Users\\proud\\anaconda3\\lib\\site-packages\\sklearn\\base.py:432: UserWarning: X has feature names, but LogisticRegression was fitted without feature names\n",
      "  warnings.warn(\n"
     ]
    }
   ],
   "source": [
    "y_pred = model.predict(X_test)"
   ]
  },
  {
   "cell_type": "code",
   "execution_count": 10,
   "id": "d5f02e09",
   "metadata": {},
   "outputs": [],
   "source": [
    "from joblib import dump"
   ]
  },
  {
   "cell_type": "code",
   "execution_count": 11,
   "id": "2d3a08ee",
   "metadata": {},
   "outputs": [
    {
     "data": {
      "text/plain": [
       "['./../savedModels/model.joblib']"
      ]
     },
     "execution_count": 11,
     "metadata": {},
     "output_type": "execute_result"
    }
   ],
   "source": [
    "dump(model, './../savedModels/model.joblib')"
   ]
  }
 ],
 "metadata": {
  "kernelspec": {
   "display_name": "Python 3 (ipykernel)",
   "language": "python",
   "name": "python3"
  },
  "language_info": {
   "codemirror_mode": {
    "name": "ipython",
    "version": 3
   },
   "file_extension": ".py",
   "mimetype": "text/x-python",
   "name": "python",
   "nbconvert_exporter": "python",
   "pygments_lexer": "ipython3",
   "version": "3.9.13"
  }
 },
 "nbformat": 4,
 "nbformat_minor": 5
}
