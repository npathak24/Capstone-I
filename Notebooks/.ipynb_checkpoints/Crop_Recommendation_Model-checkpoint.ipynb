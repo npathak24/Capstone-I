{
 "cells": [
  {
   "cell_type": "code",
   "execution_count": 2,
   "id": "22b4fa43",
   "metadata": {},
   "outputs": [],
   "source": [
    "# import libraries\n",
    "import pandas as pd"
   ]
  },
  {
   "cell_type": "code",
   "execution_count": 3,
   "id": "942e54ce",
   "metadata": {},
   "outputs": [],
   "source": [
    "# Load Dataset\n",
    "crop_df = pd.read_csv('./Crop_recommendation.csv')"
   ]
  },
  {
   "cell_type": "code",
   "execution_count": 4,
   "id": "e321a445",
   "metadata": {},
   "outputs": [],
   "source": [
    "# Extrating features adn assinging to X and Assigning labels tob y variables\n",
    "\n",
    "X = crop_df.drop('label', axis=1)\n",
    "y = crop_df['label']"
   ]
  },
  {
   "cell_type": "code",
   "execution_count": 5,
   "id": "1e3a7903",
   "metadata": {},
   "outputs": [],
   "source": [
    "#Create Train and Test datasets\n",
    "from sklearn.model_selection import train_test_split  \n",
    "X_train, X_test, y_train, y_test = train_test_split(X, y, stratify=y, test_size = 0.20, random_state= 100)"
   ]
  },
  {
   "cell_type": "code",
   "execution_count": 7,
   "id": "3cc21267",
   "metadata": {},
   "outputs": [],
   "source": [
    "#Script for Decision Tree\n",
    "from sklearn.tree import DecisionTreeClassifier  \n",
    "\n",
    "for name, model in [('Decision Tree Classifier', DecisionTreeClassifier(random_state=100))]: \n",
    "    model.fit(X_train,y_train)\n",
    "    predict = model.predict(X_test)"
   ]
  },
  {
   "cell_type": "code",
   "execution_count": 8,
   "id": "dcde5363",
   "metadata": {},
   "outputs": [
    {
     "name": "stdout",
     "output_type": "stream",
     "text": [
      "\n",
      "Estimator: Decision Tree Classifier\n",
      "[[26  0  0  0  0  0  0]\n",
      " [ 0 20  0  0  0  0  0]\n",
      " [ 0  0 25  0  0  0  0]\n",
      " [ 0  0  0 20  0  0  0]\n",
      " [ 0  0  0  0 24  0  0]\n",
      " [ 0  0  0  0  0 20  0]\n",
      " [ 0  0  0  0  0  0 28]]\n",
      "              precision    recall  f1-score   support\n",
      "\n",
      "   Soyabeans       1.00      1.00      1.00        26\n",
      "       apple       1.00      1.00      1.00        20\n",
      "       beans       1.00      1.00      1.00        25\n",
      "      grapes       1.00      1.00      1.00        20\n",
      "       maize       1.00      1.00      1.00        24\n",
      "        peas       1.00      1.00      1.00        20\n",
      "        rice       1.00      1.00      1.00        28\n",
      "\n",
      "    accuracy                           1.00       163\n",
      "   macro avg       1.00      1.00      1.00       163\n",
      "weighted avg       1.00      1.00      1.00       163\n",
      "\n"
     ]
    }
   ],
   "source": [
    "# Evaluation Report and Matrix\n",
    "from sklearn.metrics import classification_report, confusion_matrix  \n",
    "print('\\nEstimator: {}'.format(name)) \n",
    "print(confusion_matrix(y_test,predict))  \n",
    "print(classification_report(y_test,predict)) "
   ]
  },
  {
   "cell_type": "code",
   "execution_count": 10,
   "id": "5b243558",
   "metadata": {},
   "outputs": [],
   "source": [
    "y_pred = model.predict(X_test)"
   ]
  },
  {
   "cell_type": "code",
   "execution_count": 11,
   "id": "d5f02e09",
   "metadata": {},
   "outputs": [],
   "source": [
    "from joblib import dump"
   ]
  },
  {
   "cell_type": "code",
   "execution_count": 13,
   "id": "2d3a08ee",
   "metadata": {},
   "outputs": [
    {
     "data": {
      "text/plain": [
       "['./../savedModels/model.joblib']"
      ]
     },
     "execution_count": 13,
     "metadata": {},
     "output_type": "execute_result"
    }
   ],
   "source": [
    "dump(model, './../savedModels/model.joblib')"
   ]
  }
 ],
 "metadata": {
  "kernelspec": {
   "display_name": "Python 3 (ipykernel)",
   "language": "python",
   "name": "python3"
  },
  "language_info": {
   "codemirror_mode": {
    "name": "ipython",
    "version": 3
   },
   "file_extension": ".py",
   "mimetype": "text/x-python",
   "name": "python",
   "nbconvert_exporter": "python",
   "pygments_lexer": "ipython3",
   "version": "3.9.13"
  }
 },
 "nbformat": 4,
 "nbformat_minor": 5
}
